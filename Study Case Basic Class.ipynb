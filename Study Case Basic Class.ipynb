{
 "cells": [
  {
   "cell_type": "markdown",
   "metadata": {},
   "source": [
    "<img src=\"https://github.com/Make-AI-Indonesia/BasicClasssStudyCase_FIFA2018/raw/master/makeailogo_hitam.png\" alt=\"make-ai_logo\" height=\"200\" width=\"600\" align=\"center\">\n",
    "\n",
    "\n",
    "\n",
    "\n",
    "# Study Case 1: Analyze FIFA World Cup 2018 Russia\n",
    "\n",
    "In this study case, we are going to analyze dataset of FIFA World Cup 2018 in Russia. This **Excel** dataset consist of 2 tables sheet which is `match_statistics` consist of match data such as `team`, versus `opponent`, `goals scored` and et cetera. The Second one is `countries` which is tables of mapping countries to continents.\n",
    "\n",
    "The Purpose of this Analysis is to dig some insteresting fact while answering questions and utilize your visualization skills you've already learned to create Report about this World Cup event\n",
    "\n",
    "\n",
    "___\n",
    "\n",
    "**Name:**\n",
    "\n",
    "**Batch/Company name:**\n",
    "___\n",
    "\n",
    "## 1. Load the data\n",
    "Import your analysis tools such as `pandas`"
   ]
  },
  {
   "cell_type": "code",
   "execution_count": 1,
   "metadata": {
    "hide_input": false
   },
   "outputs": [],
   "source": []
  },
  {
   "cell_type": "markdown",
   "metadata": {},
   "source": [
    "<img src=\"https://miro.medium.com/max/3640/1*aFvXTLFn4l-qMD4-uN6rrQ.jpeg\" width=\"480\" height=\"360\" align=\"center\"/>\n",
    "\n",
    "Source : [The Verge](https://www.google.com/url?sa=i&rct=j&q=&esrc=s&source=images&cd=&cad=rja&uact=8&ved=2ahUKEwiM5Oir8bDhAhXClOYKHTUECy8Qjhx6BAgBEAM&url=https%3A%2F%2Fwww.theverge.com%2F2018%2F6%2F14%2F17464582%2Fworld-cup-2018-how-to-watch-live-stream-online-fifa-fox-sports&psig=AOvVaw0xGARhkGnDdCmrX9ISE2iE&ust=1554276490178510)\n",
    "\n",
    "___\n",
    "\n",
    "First, Since our **Excel dataset consist of 2 sheet table data** we need to load our dataset **into 2 DataFrame** \n",
    "\n",
    "<br>\n",
    "\n",
    "![](https://github.com/BenedictusAryo/documents_assets/raw/master/New%20CourseMap/exercise_assets/fifadata.png)\n",
    "\n",
    "<br>\n",
    "\n",
    "We can assign name to our 2 DataFrame `data_match` and `data_country`. The easiest way to do that is by using `.read_excel()` function by specifying `sheet_name=SHEETNAME` \n",
    "\n",
    "```python\n",
    "data_match = pd.read_excel('data/FIFA World Cup 2018.xlsx',sheet_name='match_statistics')\n",
    "data_country = pd.read_excel('data/FIFA World Cup 2018.xlsx',sheet_name='countries')\n",
    "```\n",
    "\n",
    "Or if you use Google Colab/Azure try this\n",
    "```python\n",
    "FIFA_data = 'https://github.com/Make-AI-Indonesia/BasicClasssStudyCase_FIFA2018/raw/master/FIFA%20World%20Cup%202018.xlsx'\n",
    "\n",
    "data_match = pd.read_excel(FIFA_data, sheet_name='match_statistics')\n",
    "data_country = pd.read_excel(FIFA_data, sheet_name='countries')\n",
    "```"
   ]
  },
  {
   "cell_type": "code",
   "execution_count": 2,
   "metadata": {},
   "outputs": [],
   "source": []
  },
  {
   "cell_type": "markdown",
   "metadata": {},
   "source": [
    "## 2. Take a peek of the data\n",
    "Now, use function `.head()` to show first 5 row data of each dataframe"
   ]
  },
  {
   "cell_type": "code",
   "execution_count": null,
   "metadata": {
    "scrolled": true
   },
   "outputs": [],
   "source": []
  },
  {
   "cell_type": "markdown",
   "metadata": {},
   "source": [
    "Since the dataframe display  ``...`` columns, we want to show all columns and posible rows, we can use:\n",
    "```python\n",
    "pd.set_option('display.max_columns', None)\n",
    "pd.set_option('display.max_rows', None)\n",
    "```"
   ]
  },
  {
   "cell_type": "code",
   "execution_count": null,
   "metadata": {},
   "outputs": [],
   "source": []
  },
  {
   "cell_type": "markdown",
   "metadata": {},
   "source": [
    "# Exercise 1\n",
    "## 3. Take a peek of the data \n",
    "Show last 3 rows of **data_country**"
   ]
  },
  {
   "cell_type": "code",
   "execution_count": null,
   "metadata": {},
   "outputs": [],
   "source": []
  },
  {
   "cell_type": "code",
   "execution_count": null,
   "metadata": {},
   "outputs": [],
   "source": []
  },
  {
   "cell_type": "markdown",
   "metadata": {},
   "source": [
    "# Exercise 2\n",
    "## 4. Get information regarding data type, and rows of `data_match`."
   ]
  },
  {
   "cell_type": "code",
   "execution_count": null,
   "metadata": {},
   "outputs": [],
   "source": []
  },
  {
   "cell_type": "code",
   "execution_count": null,
   "metadata": {},
   "outputs": [],
   "source": []
  },
  {
   "cell_type": "markdown",
   "metadata": {},
   "source": [
    "# Exercise 3\n",
    "## 5. Get Quick statistical values of `data_match`."
   ]
  },
  {
   "cell_type": "code",
   "execution_count": null,
   "metadata": {},
   "outputs": [],
   "source": []
  },
  {
   "cell_type": "code",
   "execution_count": null,
   "metadata": {},
   "outputs": [],
   "source": []
  },
  {
   "cell_type": "markdown",
   "metadata": {},
   "source": [
    "# Exercise 4\n",
    "## 6. Let's sorting `data_match` based on `Date`.\n",
    "**Hint:** use `.sort_values`"
   ]
  },
  {
   "cell_type": "code",
   "execution_count": null,
   "metadata": {
    "hide_input": false
   },
   "outputs": [],
   "source": []
  },
  {
   "cell_type": "code",
   "execution_count": null,
   "metadata": {},
   "outputs": [],
   "source": []
  },
  {
   "cell_type": "markdown",
   "metadata": {},
   "source": [
    "# Exercise 5\n",
    "## 7. Try to filter only match in `Group Stage` , on column `Round`"
   ]
  },
  {
   "cell_type": "code",
   "execution_count": null,
   "metadata": {
    "hide_input": false
   },
   "outputs": [],
   "source": []
  },
  {
   "cell_type": "code",
   "execution_count": null,
   "metadata": {},
   "outputs": [],
   "source": []
  },
  {
   "cell_type": "markdown",
   "metadata": {
    "hide_input": false
   },
   "source": [
    "# Exercise 6\n",
    "## 8. Filter data that `Goal Scored` is more than 3 ."
   ]
  },
  {
   "cell_type": "code",
   "execution_count": null,
   "metadata": {},
   "outputs": [],
   "source": []
  },
  {
   "cell_type": "code",
   "execution_count": null,
   "metadata": {},
   "outputs": [],
   "source": []
  },
  {
   "cell_type": "markdown",
   "metadata": {},
   "source": [
    "# Exercise 7\n",
    "## 9. Create new column, called `Passes Completed`, which is `Pass Accuracy %` times `Passes`. "
   ]
  },
  {
   "cell_type": "code",
   "execution_count": null,
   "metadata": {
    "hide_input": false
   },
   "outputs": [],
   "source": [
    "#pass accuracy 80 %\n",
    "#passes 200\n",
    "#passes completed 80% * 200 = 160\n",
    "\n"
   ]
  },
  {
   "cell_type": "code",
   "execution_count": null,
   "metadata": {},
   "outputs": [],
   "source": [
    "# check our data after adding *Passes Completed*\n"
   ]
  },
  {
   "cell_type": "markdown",
   "metadata": {},
   "source": [
    "---"
   ]
  },
  {
   "cell_type": "markdown",
   "metadata": {},
   "source": [
    "# 10. Joining Data\n",
    "In the beginning, we have load 2 data, which is match data and Country data. Now, we want to merging the country data into 1 single table. the simple way to do that is using `data.merge()` function\n",
    "\n",
    "If you look at the help menu of this function, you can see below parameter:\n",
    "```python\n",
    "data.merge(\n",
    "    right,\n",
    "    how='inner',\n",
    "    on=None,\n",
    "    left_on=None,\n",
    "    right_on=None,\n",
    "    left_index=False,\n",
    "    right_index=False,\n",
    "    sort=False,\n",
    "    suffixes=('_x', '_y'),\n",
    "    copy=True,\n",
    "    indicator=False,\n",
    "    validate=None,\n",
    ")\n",
    "```\n",
    "\n",
    "## Join `data_match.merge( )` using parameter `right=data_country` with left_on column `Team` right_on column `Country` and `how = 'left'`. Save as variable `data_join`"
   ]
  },
  {
   "cell_type": "code",
   "execution_count": null,
   "metadata": {},
   "outputs": [],
   "source": []
  },
  {
   "cell_type": "code",
   "execution_count": null,
   "metadata": {},
   "outputs": [],
   "source": []
  },
  {
   "cell_type": "markdown",
   "metadata": {},
   "source": [
    "# Exercise 8\n",
    "## 11. Rename Column `Continent` in `data_join` into `Team Continent`\n",
    "**Hint:** use function `.rename()`, check help for detail and don't forget to use `inplace=True`"
   ]
  },
  {
   "cell_type": "code",
   "execution_count": null,
   "metadata": {},
   "outputs": [],
   "source": []
  },
  {
   "cell_type": "code",
   "execution_count": null,
   "metadata": {},
   "outputs": [],
   "source": []
  },
  {
   "cell_type": "markdown",
   "metadata": {},
   "source": [
    "# Exercise 9\n",
    "## 12. Create DataFrame called `reports` which only showing columns : \n",
    "## `['Date', 'Team', 'Team Continent', 'Opponent', 'Goal Scored', 'Attempts', 'On-Target', 'Passes Complete']` from `data_join`"
   ]
  },
  {
   "cell_type": "code",
   "execution_count": null,
   "metadata": {},
   "outputs": [],
   "source": []
  },
  {
   "cell_type": "code",
   "execution_count": null,
   "metadata": {},
   "outputs": [],
   "source": []
  },
  {
   "cell_type": "markdown",
   "metadata": {},
   "source": [
    "# 13. Groupby Data \n",
    "In Excel, you might be familiar with **Pivot Table**. In Pandas, we can do that using `.groupby()` function.\n",
    "\n",
    "We will group `reports` dataframe by `continent` and group it by **sum**. The syntax is:\n",
    "```python\n",
    "reports.groupby('continent').sum()\n",
    "```"
   ]
  },
  {
   "cell_type": "code",
   "execution_count": null,
   "metadata": {},
   "outputs": [],
   "source": []
  },
  {
   "cell_type": "code",
   "execution_count": null,
   "metadata": {},
   "outputs": [],
   "source": []
  },
  {
   "cell_type": "markdown",
   "metadata": {},
   "source": [
    "# Exercise 10\n",
    "## 14. Now try to grouby `Team` by `mean` and sort value of `Passes Complete` descending\n"
   ]
  },
  {
   "cell_type": "code",
   "execution_count": null,
   "metadata": {},
   "outputs": [],
   "source": []
  },
  {
   "cell_type": "code",
   "execution_count": null,
   "metadata": {},
   "outputs": [],
   "source": []
  },
  {
   "cell_type": "code",
   "execution_count": null,
   "metadata": {
    "scrolled": true
   },
   "outputs": [],
   "source": []
  },
  {
   "cell_type": "markdown",
   "metadata": {},
   "source": [
    "___\n",
    "# Data Visualization\n",
    "You can import visualization tools such as `matplotlib` or `seaborn`\n",
    "\n",
    "```python\n",
    "import matplotlib.pyplot as plt\n",
    "import seaborn as sns\n",
    "```"
   ]
  },
  {
   "cell_type": "code",
   "execution_count": null,
   "metadata": {
    "scrolled": true
   },
   "outputs": [],
   "source": []
  },
  {
   "cell_type": "markdown",
   "metadata": {},
   "source": [
    "# Exercise 11\n",
    "## 15. Plot a barchart  with `x` is `Continent` and `y` is sum of `Goal Scored"
   ]
  },
  {
   "cell_type": "markdown",
   "metadata": {},
   "source": [
    "Visualize your data, for example we want to know Total of Goal Scored for every continent team in our data.\n",
    "\n",
    "<img src=\"https://github.com/BenedictusAryo/konten_image/raw/master/Sample%20barplot.png\" alt=\"make-ai_logo\" height=\"400\" width=\"600\" align=\"center\">\n",
    "\n",
    "**Hint:** Create Groupby data `Team Continent` by `sum`"
   ]
  },
  {
   "cell_type": "code",
   "execution_count": null,
   "metadata": {},
   "outputs": [],
   "source": []
  },
  {
   "cell_type": "code",
   "execution_count": null,
   "metadata": {},
   "outputs": [],
   "source": []
  },
  {
   "cell_type": "code",
   "execution_count": null,
   "metadata": {},
   "outputs": [],
   "source": []
  },
  {
   "cell_type": "markdown",
   "metadata": {},
   "source": [
    "# Exercise 12\n",
    "## 16. Plot How Many match held in FIFA World Cup 2018\n",
    "\n",
    "<img src=\"https://github.com/BenedictusAryo/konten_image/raw/master/fifa_match.png\" alt=\"make-ai_logo\" height=\"600\" width=\"800\" align=\"center\">\n",
    "\n",
    "**Hint:** Use `Horizontal barchart` from dataframe `data_match` of column `Round`"
   ]
  },
  {
   "cell_type": "code",
   "execution_count": null,
   "metadata": {},
   "outputs": [],
   "source": []
  },
  {
   "cell_type": "code",
   "execution_count": null,
   "metadata": {},
   "outputs": [],
   "source": []
  },
  {
   "cell_type": "code",
   "execution_count": null,
   "metadata": {},
   "outputs": [],
   "source": []
  },
  {
   "cell_type": "markdown",
   "metadata": {},
   "source": [
    "# Exercise 13-15\n",
    "## Exploring & Analyze your data ! Find 3 Conclussion you found in the dataset"
   ]
  },
  {
   "cell_type": "markdown",
   "metadata": {},
   "source": [
    "Get minimum 3 conclusion or insight of it.\n",
    "- 1.\n",
    "- 2.\n",
    "- 3."
   ]
  },
  {
   "cell_type": "code",
   "execution_count": null,
   "metadata": {},
   "outputs": [],
   "source": []
  },
  {
   "cell_type": "code",
   "execution_count": null,
   "metadata": {},
   "outputs": [],
   "source": []
  },
  {
   "cell_type": "code",
   "execution_count": null,
   "metadata": {},
   "outputs": [],
   "source": []
  },
  {
   "cell_type": "code",
   "execution_count": null,
   "metadata": {},
   "outputs": [],
   "source": []
  }
 ],
 "metadata": {
  "kernelspec": {
   "display_name": "Python 3",
   "language": "python",
   "name": "python3"
  },
  "language_info": {
   "codemirror_mode": {
    "name": "ipython",
    "version": 3
   },
   "file_extension": ".py",
   "mimetype": "text/x-python",
   "name": "python",
   "nbconvert_exporter": "python",
   "pygments_lexer": "ipython3",
   "version": "3.7.3"
  },
  "toc": {
   "base_numbering": 1,
   "nav_menu": {},
   "number_sections": true,
   "sideBar": true,
   "skip_h1_title": false,
   "title_cell": "Table of Contents",
   "title_sidebar": "Contents",
   "toc_cell": false,
   "toc_position": {},
   "toc_section_display": true,
   "toc_window_display": false
  }
 },
 "nbformat": 4,
 "nbformat_minor": 4
}
